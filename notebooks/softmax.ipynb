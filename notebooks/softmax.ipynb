{
 "cells": [
  {
   "cell_type": "markdown",
   "metadata": {
    "deletable": true,
    "editable": true
   },
   "source": [
    "# Softmax exercise\n",
    "\n",
    "*Complete and hand in this completed worksheet (including its outputs and any supporting code outside of the worksheet) with your assignment submission. For more details see the [assignments page](http://vision.stanford.edu/teaching/cs231n/assignments.html) on the course website.*\n",
    "\n",
    "This exercise is analogous to the SVM exercise. You will:\n",
    "\n",
    "- implement a fully-vectorized **loss function** for the Softmax classifier\n",
    "- implement the fully-vectorized expression for its **analytic gradient**\n",
    "- **check your implementation** with numerical gradient\n",
    "- use a validation set to **tune the learning rate and regularization** strength\n",
    "- **optimize** the loss function with **SGD**\n",
    "- **visualize** the final learned weights\n"
   ]
  },
  {
   "cell_type": "code",
   "execution_count": 1,
   "metadata": {
    "collapsed": false,
    "deletable": true,
    "editable": true
   },
   "outputs": [],
   "source": [
    "import random\n",
    "import numpy as np\n",
    "from skynet.utils.data_utils import load_CIFAR10\n",
    "import matplotlib.pyplot as plt\n",
    "%matplotlib inline\n",
    "plt.rcParams['figure.figsize'] = (10.0, 8.0) # set default size of plots\n",
    "plt.rcParams['image.interpolation'] = 'nearest'\n",
    "plt.rcParams['image.cmap'] = 'gray'\n",
    "\n",
    "# for auto-reloading extenrnal modules\n",
    "# see http://stackoverflow.com/questions/1907993/autoreload-of-modules-in-ipython\n",
    "%load_ext autoreload\n",
    "%autoreload 2"
   ]
  },
  {
   "cell_type": "code",
   "execution_count": 2,
   "metadata": {
    "collapsed": false,
    "deletable": true,
    "editable": true
   },
   "outputs": [
    {
     "name": "stdout",
     "output_type": "stream",
     "text": [
      "Train data shape:  (49000, 3073)\n",
      "Train labels shape:  (49000,)\n",
      "Validation data shape:  (1000, 3073)\n",
      "Validation labels shape:  (1000,)\n",
      "Test data shape:  (1000, 3073)\n",
      "Test labels shape:  (1000,)\n",
      "dev data shape:  (500, 3073)\n",
      "dev labels shape:  (500,)\n"
     ]
    }
   ],
   "source": [
    "def get_CIFAR10_data(num_training=49000, num_validation=1000, num_test=1000, num_dev=500):\n",
    "  \"\"\"\n",
    "  Load the CIFAR-10 dataset from disk and perform preprocessing to prepare\n",
    "  it for the linear classifier. These are the same steps as we used for the\n",
    "  SVM, but condensed to a single function.  \n",
    "  \"\"\"\n",
    "  # Load the raw CIFAR-10 data\n",
    "  cifar10_dir = '../skynet/datasets/cifar-10-batches-py'\n",
    "  X_train, y_train, X_test, y_test = load_CIFAR10(cifar10_dir)\n",
    "  \n",
    "  # subsample the data\n",
    "  mask = range(num_training, num_training + num_validation)\n",
    "  X_val = X_train[mask]\n",
    "  y_val = y_train[mask]\n",
    "  mask = range(num_training)\n",
    "  X_train = X_train[mask]\n",
    "  y_train = y_train[mask]\n",
    "  mask = range(num_test)\n",
    "  X_test = X_test[mask]\n",
    "  y_test = y_test[mask]\n",
    "  mask = np.random.choice(num_training, num_dev, replace=False)\n",
    "  X_dev = X_train[mask]\n",
    "  y_dev = y_train[mask]\n",
    "  \n",
    "  # Preprocessing: reshape the image data into rows\n",
    "  X_train = np.reshape(X_train, (X_train.shape[0], -1))\n",
    "  X_val = np.reshape(X_val, (X_val.shape[0], -1))\n",
    "  X_test = np.reshape(X_test, (X_test.shape[0], -1))\n",
    "  X_dev = np.reshape(X_dev, (X_dev.shape[0], -1))\n",
    "  \n",
    "  # Normalize the data: subtract the mean image\n",
    "  mean_image = np.mean(X_train, axis = 0)\n",
    "  X_train -= mean_image\n",
    "  X_val -= mean_image\n",
    "  X_test -= mean_image\n",
    "  X_dev -= mean_image\n",
    "  \n",
    "  # add bias dimension and transform into columns\n",
    "  X_train = np.hstack([X_train, np.ones((X_train.shape[0], 1))])\n",
    "  X_val = np.hstack([X_val, np.ones((X_val.shape[0], 1))])\n",
    "  X_test = np.hstack([X_test, np.ones((X_test.shape[0], 1))])\n",
    "  X_dev = np.hstack([X_dev, np.ones((X_dev.shape[0], 1))])\n",
    "  \n",
    "  return X_train, y_train, X_val, y_val, X_test, y_test, X_dev, y_dev\n",
    "\n",
    "\n",
    "# Invoke the above function to get our data.\n",
    "X_train, y_train, X_val, y_val, X_test, y_test, X_dev, y_dev = get_CIFAR10_data()\n",
    "print 'Train data shape: ', X_train.shape\n",
    "print 'Train labels shape: ', y_train.shape\n",
    "print 'Validation data shape: ', X_val.shape\n",
    "print 'Validation labels shape: ', y_val.shape\n",
    "print 'Test data shape: ', X_test.shape\n",
    "print 'Test labels shape: ', y_test.shape\n",
    "print 'dev data shape: ', X_dev.shape\n",
    "print 'dev labels shape: ', y_dev.shape"
   ]
  },
  {
   "cell_type": "markdown",
   "metadata": {
    "deletable": true,
    "editable": true
   },
   "source": [
    "## Softmax Classifier\n",
    "\n",
    "Your code for this section will all be written inside **linear/classifiers/softmax.py**. \n"
   ]
  },
  {
   "cell_type": "code",
   "execution_count": 3,
   "metadata": {
    "collapsed": false,
    "deletable": true,
    "editable": true
   },
   "outputs": [
    {
     "name": "stdout",
     "output_type": "stream",
     "text": [
      "loss: 2.358606\n",
      "sanity check: 2.302585\n"
     ]
    }
   ],
   "source": [
    "# First implement the naive softmax loss function with nested loops.\n",
    "# Open the file cs231n/classifiers/softmax.py and implement the\n",
    "# softmax_loss_naive function.\n",
    "\n",
    "from skynet.linear.classifiers.softmax import softmax_loss_naive\n",
    "import time\n",
    "\n",
    "# Generate a random softmax weight matrix and use it to compute the loss.\n",
    "W = np.random.randn(3073, 10) * 0.0001\n",
    "loss, grad = softmax_loss_naive(W, X_dev, y_dev, 0.0)\n",
    "\n",
    "# As a rough sanity check, our loss should be something close to -log(0.1).\n",
    "print 'loss: %f' % loss\n",
    "print 'sanity check: %f' % (-np.log(0.1))"
   ]
  },
  {
   "cell_type": "markdown",
   "metadata": {
    "deletable": true,
    "editable": true
   },
   "source": [
    "## Inline Question 1:\n",
    "Why do we expect our loss to be close to -log(0.1)? Explain briefly.**\n",
    "\n",
    "**Your answer:** *Fill this in*\n",
    "\n",
    "By randomly initializing the weights, the prediction results for each class tend to be of equal probability. And there are 10 classes, meaning each has a probability of 1/10.\n"
   ]
  },
  {
   "cell_type": "code",
   "execution_count": 4,
   "metadata": {
    "collapsed": false,
    "deletable": true,
    "editable": true
   },
   "outputs": [
    {
     "name": "stdout",
     "output_type": "stream",
     "text": [
      "numerical: 2.928741 analytic: 2.928741, relative error: 2.271861e-08\n",
      "numerical: 2.130340 analytic: 2.130339, relative error: 3.585426e-08\n",
      "numerical: 0.790854 analytic: 0.790854, relative error: 3.882301e-08\n",
      "numerical: -1.446149 analytic: -1.446150, relative error: 3.792560e-08\n",
      "numerical: -0.256465 analytic: -0.256465, relative error: 2.517636e-08\n",
      "numerical: -0.626465 analytic: -0.626465, relative error: 1.303867e-07\n",
      "numerical: -1.433811 analytic: -1.433811, relative error: 2.572731e-08\n",
      "numerical: 4.346216 analytic: 4.346216, relative error: 8.763912e-09\n",
      "numerical: 2.249079 analytic: 2.249079, relative error: 2.401616e-08\n",
      "numerical: -3.719968 analytic: -3.719968, relative error: 1.363404e-08\n",
      "numerical: -1.575392 analytic: -1.575392, relative error: 1.188343e-08\n",
      "numerical: -0.042683 analytic: -0.042683, relative error: 9.708078e-07\n",
      "numerical: 0.742589 analytic: 0.742589, relative error: 6.249698e-08\n",
      "numerical: 1.907062 analytic: 1.907062, relative error: 2.308772e-08\n",
      "numerical: 0.593611 analytic: 0.593611, relative error: 1.802825e-07\n",
      "numerical: 0.218391 analytic: 0.218391, relative error: 1.669859e-07\n",
      "numerical: 2.301669 analytic: 2.301669, relative error: 6.382161e-09\n",
      "numerical: 2.117657 analytic: 2.117657, relative error: 1.724234e-09\n",
      "numerical: 0.011503 analytic: 0.011503, relative error: 1.076629e-05\n",
      "numerical: 0.430849 analytic: 0.430849, relative error: 1.598618e-08\n"
     ]
    }
   ],
   "source": [
    "# Complete the implementation of softmax_loss_naive and implement a (naive)\n",
    "# version of the gradient that uses nested loops.\n",
    "loss, grad = softmax_loss_naive(W, X_dev, y_dev, 0.0)\n",
    "\n",
    "# As we did for the SVM, use numeric gradient checking as a debugging tool.\n",
    "# The numeric gradient should be close to the analytic gradient.\n",
    "from skynet.utils.gradient_check import grad_check_sparse\n",
    "f = lambda w: softmax_loss_naive(w, X_dev, y_dev, 0.0)[0]\n",
    "grad_numerical = grad_check_sparse(f, W, grad, 10)\n",
    "\n",
    "# similar to SVM case, do another gradient check with regularization\n",
    "loss, grad = softmax_loss_naive(W, X_dev, y_dev, 1e2)\n",
    "f = lambda w: softmax_loss_naive(w, X_dev, y_dev, 1e2)[0]\n",
    "grad_numerical = grad_check_sparse(f, W, grad, 10)"
   ]
  },
  {
   "cell_type": "code",
   "execution_count": 5,
   "metadata": {
    "collapsed": false,
    "deletable": true,
    "editable": true
   },
   "outputs": [
    {
     "name": "stdout",
     "output_type": "stream",
     "text": [
      "naive loss: 2.358606e+00 computed in 0.077601s\n",
      "vectorized loss: 2.358606e+00 computed in 0.005509s\n",
      "Loss difference: 0.000000\n",
      "Gradient difference: 0.000000\n"
     ]
    }
   ],
   "source": [
    "# Now that we have a naive implementation of the softmax loss function and its gradient,\n",
    "# implement a vectorized version in softmax_loss_vectorized.\n",
    "# The two versions should compute the same results, but the vectorized version should be\n",
    "# much faster.\n",
    "tic = time.time()\n",
    "loss_naive, grad_naive = softmax_loss_naive(W, X_dev, y_dev, 0.00001)\n",
    "toc = time.time()\n",
    "print 'naive loss: %e computed in %fs' % (loss_naive, toc - tic)\n",
    "\n",
    "from skynet.linear.classifiers.softmax import softmax_loss_vectorized\n",
    "tic = time.time()\n",
    "loss_vectorized, grad_vectorized = softmax_loss_vectorized(W, X_dev, y_dev, 0.00001)\n",
    "toc = time.time()\n",
    "print 'vectorized loss: %e computed in %fs' % (loss_vectorized, toc - tic)\n",
    "\n",
    "# As we did for the SVM, we use the Frobenius norm to compare the two versions\n",
    "# of the gradient.\n",
    "grad_difference = np.linalg.norm(grad_naive - grad_vectorized, ord='fro')\n",
    "print 'Loss difference: %f' % np.abs(loss_naive - loss_vectorized)\n",
    "print 'Gradient difference: %f' % grad_difference"
   ]
  },
  {
   "cell_type": "code",
   "execution_count": 6,
   "metadata": {
    "collapsed": false,
    "deletable": true,
    "editable": true
   },
   "outputs": [
    {
     "name": "stdout",
     "output_type": "stream",
     "text": [
      "lr 1.000000e-07 reg 1.000000e-05 train accuracy: 0.243939 val accuracy: 0.236000\n",
      "lr 1.000000e-07 reg 5.000000e-05 train accuracy: 0.243776 val accuracy: 0.241000\n",
      "lr 1.000000e-07 reg 1.000000e-04 train accuracy: 0.251020 val accuracy: 0.251000\n",
      "lr 1.000000e-07 reg 3.000000e-04 train accuracy: 0.251959 val accuracy: 0.240000\n",
      "lr 1.000000e-07 reg 5.000000e-04 train accuracy: 0.251143 val accuracy: 0.262000\n",
      "lr 1.000000e-07 reg 1.000000e-03 train accuracy: 0.245082 val accuracy: 0.262000\n",
      "lr 3.000000e-07 reg 1.000000e-05 train accuracy: 0.297898 val accuracy: 0.295000\n",
      "lr 3.000000e-07 reg 5.000000e-05 train accuracy: 0.294041 val accuracy: 0.298000\n",
      "lr 3.000000e-07 reg 1.000000e-04 train accuracy: 0.299102 val accuracy: 0.301000\n",
      "lr 3.000000e-07 reg 3.000000e-04 train accuracy: 0.296061 val accuracy: 0.320000\n",
      "lr 3.000000e-07 reg 5.000000e-04 train accuracy: 0.296245 val accuracy: 0.310000\n",
      "lr 3.000000e-07 reg 1.000000e-03 train accuracy: 0.292388 val accuracy: 0.299000\n",
      "lr 5.000000e-07 reg 1.000000e-05 train accuracy: 0.318102 val accuracy: 0.315000\n",
      "lr 5.000000e-07 reg 5.000000e-05 train accuracy: 0.313776 val accuracy: 0.318000\n",
      "lr 5.000000e-07 reg 1.000000e-04 train accuracy: 0.317020 val accuracy: 0.334000\n",
      "lr 5.000000e-07 reg 3.000000e-04 train accuracy: 0.318673 val accuracy: 0.321000\n",
      "lr 5.000000e-07 reg 5.000000e-04 train accuracy: 0.318388 val accuracy: 0.317000\n",
      "lr 5.000000e-07 reg 1.000000e-03 train accuracy: 0.318714 val accuracy: 0.323000\n",
      "lr 7.000000e-07 reg 1.000000e-05 train accuracy: 0.335306 val accuracy: 0.341000\n",
      "lr 7.000000e-07 reg 5.000000e-05 train accuracy: 0.326939 val accuracy: 0.331000\n",
      "lr 7.000000e-07 reg 1.000000e-04 train accuracy: 0.334347 val accuracy: 0.325000\n",
      "lr 7.000000e-07 reg 3.000000e-04 train accuracy: 0.330878 val accuracy: 0.321000\n",
      "lr 7.000000e-07 reg 5.000000e-04 train accuracy: 0.333306 val accuracy: 0.346000\n",
      "lr 7.000000e-07 reg 1.000000e-03 train accuracy: 0.337816 val accuracy: 0.344000\n",
      "lr 1.000000e-06 reg 1.000000e-05 train accuracy: 0.343347 val accuracy: 0.340000\n",
      "lr 1.000000e-06 reg 5.000000e-05 train accuracy: 0.349082 val accuracy: 0.332000\n",
      "lr 1.000000e-06 reg 1.000000e-04 train accuracy: 0.346265 val accuracy: 0.332000\n",
      "lr 1.000000e-06 reg 3.000000e-04 train accuracy: 0.345306 val accuracy: 0.346000\n",
      "lr 1.000000e-06 reg 5.000000e-04 train accuracy: 0.345122 val accuracy: 0.348000\n",
      "lr 1.000000e-06 reg 1.000000e-03 train accuracy: 0.345224 val accuracy: 0.349000\n",
      "lr 3.000000e-06 reg 1.000000e-05 train accuracy: 0.374837 val accuracy: 0.355000\n",
      "lr 3.000000e-06 reg 5.000000e-05 train accuracy: 0.381939 val accuracy: 0.393000\n",
      "lr 3.000000e-06 reg 1.000000e-04 train accuracy: 0.387918 val accuracy: 0.386000\n",
      "lr 3.000000e-06 reg 3.000000e-04 train accuracy: 0.385694 val accuracy: 0.353000\n",
      "lr 3.000000e-06 reg 5.000000e-04 train accuracy: 0.392388 val accuracy: 0.374000\n",
      "lr 3.000000e-06 reg 1.000000e-03 train accuracy: 0.379122 val accuracy: 0.381000\n",
      "best validation accuracy achieved during cross-validation: 0.393000\n"
     ]
    }
   ],
   "source": [
    "# Use the validation set to tune hyperparameters (regularization strength and\n",
    "# learning rate). You should experiment with different ranges for the learning\n",
    "# rates and regularization strengths; if you are careful you should be able to\n",
    "# get a classification accuracy of over 0.35 on the validation set.\n",
    "from skynet.linear.classifiers import Softmax\n",
    "results = {}\n",
    "best_val = -1\n",
    "best_softmax = None\n",
    "learning_rates = [1e-7, 3e-7, 5e-7, 7e-7, 1e-6, 3e-6]\n",
    "regularization_strengths = [1e-5, 5e-5, 1e-4, 3e-4, 5e-4, 1e-3]\n",
    "\n",
    "################################################################################\n",
    "# TODO:                                                                        #\n",
    "# Use the validation set to set the learning rate and regularization strength. #\n",
    "# This should be identical to the validation that you did for the SVM; save    #\n",
    "# the best trained softmax classifer in best_softmax.                          #\n",
    "################################################################################\n",
    "for learning_rate in learning_rates:\n",
    "    for reg in regularization_strengths:\n",
    "        classifier = Softmax()\n",
    "        try:\n",
    "            classifier.train(X_train, y_train, learning_rate=learning_rate, reg=reg, num_iters=1500,\n",
    "                            batch_size=200, verbose=False)\n",
    "            y_train_predict = classifier.predict(X_train)\n",
    "            y_val_predict = classifier.predict(X_val)\n",
    "            train_accuracy = np.mean(y_train==y_train_predict)\n",
    "            val_accuracy = np.mean(y_val==y_val_predict)\n",
    "            results[(learning_rate, reg,)] = (train_accuracy, val_accuracy)\n",
    "            if val_accuracy > best_val:\n",
    "                best_val = val_accuracy\n",
    "                best_softmax = classifier\n",
    "        except Exception as e:\n",
    "            print(e)\n",
    "            pass\n",
    "pass\n",
    "################################################################################\n",
    "#                              END OF YOUR CODE                                #\n",
    "################################################################################\n",
    "    \n",
    "# Print out results.\n",
    "for lr, reg in sorted(results):\n",
    "    train_accuracy, val_accuracy = results[(lr, reg)]\n",
    "    print 'lr %e reg %e train accuracy: %f val accuracy: %f' % (\n",
    "                lr, reg, train_accuracy, val_accuracy)\n",
    "    \n",
    "print 'best validation accuracy achieved during cross-validation: %f' % best_val"
   ]
  },
  {
   "cell_type": "code",
   "execution_count": 7,
   "metadata": {
    "collapsed": false,
    "deletable": true,
    "editable": true
   },
   "outputs": [
    {
     "name": "stdout",
     "output_type": "stream",
     "text": [
      "softmax on raw pixels final test set accuracy: 0.362000\n"
     ]
    }
   ],
   "source": [
    "# evaluate on test set\n",
    "# Evaluate the best softmax on test set\n",
    "y_test_pred = best_softmax.predict(X_test)\n",
    "test_accuracy = np.mean(y_test == y_test_pred)\n",
    "print 'softmax on raw pixels final test set accuracy: %f' % (test_accuracy, )"
   ]
  },
  {
   "cell_type": "code",
   "execution_count": 8,
   "metadata": {
    "collapsed": false,
    "deletable": true,
    "editable": true
   },
   "outputs": [
    {
     "data": {
      "image/png": "[encoded data removed]",
      "text/plain": [
       "<matplotlib.figure.Figure at 0x10600c6d0>"
      ]
     },
     "metadata": {},
     "output_type": "display_data"
    }
   ],
   "source": [
    "# Visualize the learned weights for each class\n",
    "w = best_softmax.W[:-1,:] # strip out the bias\n",
    "w = w.reshape(32, 32, 3, 10)\n",
    "\n",
    "w_min, w_max = np.min(w), np.max(w)\n",
    "\n",
    "classes = ['plane', 'car', 'bird', 'cat', 'deer', 'dog', 'frog', 'horse', 'ship', 'truck']\n",
    "for i in xrange(10):\n",
    "  plt.subplot(2, 5, i + 1)\n",
    "  \n",
    "  # Rescale the weights to be between 0 and 255\n",
    "  wimg = 255.0 * (w[:, :, :, i].squeeze() - w_min) / (w_max - w_min)\n",
    "  plt.imshow(wimg.astype('uint8'))\n",
    "  plt.axis('off')\n",
    "  plt.title(classes[i])"
   ]
  },
  {
   "cell_type": "code",
   "execution_count": null,
   "metadata": {
    "collapsed": true
   },
   "outputs": [],
   "source": []
  }
 ],
 "metadata": {
  "kernelspec": {
   "display_name": "Python 2",
   "language": "python",
   "name": "python2"
  },
  "language_info": {
   "codemirror_mode": {
    "name": "ipython",
    "version": 2
   },
   "file_extension": ".py",
   "mimetype": "text/x-python",
   "name": "python",
   "nbconvert_exporter": "python",
   "pygments_lexer": "ipython2",
   "version": "2.7.13"
  }
 },
 "nbformat": 4,
 "nbformat_minor": 0
}

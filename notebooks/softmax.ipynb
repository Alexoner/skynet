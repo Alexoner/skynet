{
 "cells": [
  {
   "cell_type": "markdown",
   "metadata": {},
   "source": [
    "# Softmax exercise\n",
    "\n",
    "*Complete and hand in this completed worksheet (including its outputs and any supporting code outside of the worksheet) with your assignment submission. For more details see the [assignments page](http://vision.stanford.edu/teaching/cs231n/assignments.html) on the course website.*\n",
    "\n",
    "This exercise is analogous to the SVM exercise. You will:\n",
    "\n",
    "- implement a fully-vectorized **loss function** for the Softmax classifier\n",
    "- implement the fully-vectorized expression for its **analytic gradient**\n",
    "- **check your implementation** with numerical gradient\n",
    "- use a validation set to **tune the learning rate and regularization** strength\n",
    "- **optimize** the loss function with **SGD**\n",
    "- **visualize** the final learned weights\n"
   ]
  },
  {
   "cell_type": "code",
   "execution_count": 1,
   "metadata": {
    "collapsed": true
   },
   "outputs": [],
   "source": [
    "import random\n",
    "import numpy as np\n",
    "from skynet.utils.data_utils import load_CIFAR10\n",
    "import matplotlib.pyplot as plt\n",
    "%matplotlib inline\n",
    "plt.rcParams['figure.figsize'] = (10.0, 8.0) # set default size of plots\n",
    "plt.rcParams['image.interpolation'] = 'nearest'\n",
    "plt.rcParams['image.cmap'] = 'gray'\n",
    "\n",
    "# for auto-reloading extenrnal modules\n",
    "# see http://stackoverflow.com/questions/1907993/autoreload-of-modules-in-ipython\n",
    "%load_ext autoreload\n",
    "%autoreload 2"
   ]
  },
  {
   "cell_type": "code",
   "execution_count": 2,
   "metadata": {},
   "outputs": [
    {
     "name": "stdout",
     "output_type": "stream",
     "text": [
      "Train data shape:  (49000, 3073)\n",
      "Train labels shape:  (49000,)\n",
      "Validation data shape:  (1000, 3073)\n",
      "Validation labels shape:  (1000,)\n",
      "Test data shape:  (1000, 3073)\n",
      "Test labels shape:  (1000,)\n",
      "dev data shape:  (500, 3073)\n",
      "dev labels shape:  (500,)\n"
     ]
    }
   ],
   "source": [
    "def get_CIFAR10_data(num_training=49000, num_validation=1000, num_test=1000, num_dev=500):\n",
    "  \"\"\"\n",
    "  Load the CIFAR-10 dataset from disk and perform preprocessing to prepare\n",
    "  it for the linear classifier. These are the same steps as we used for the\n",
    "  SVM, but condensed to a single function.  \n",
    "  \"\"\"\n",
    "  # Load the raw CIFAR-10 data\n",
    "  cifar10_dir = '../skynet/datasets/cifar-10-batches-py'\n",
    "  X_train, y_train, X_test, y_test = load_CIFAR10(cifar10_dir)\n",
    "  \n",
    "  # subsample the data\n",
    "  mask = list(range(num_training, num_training + num_validation))\n",
    "  X_val = X_train[mask]\n",
    "  y_val = y_train[mask]\n",
    "  mask = list(range(num_training))\n",
    "  X_train = X_train[mask]\n",
    "  y_train = y_train[mask]\n",
    "  mask = list(range(num_test))\n",
    "  X_test = X_test[mask]\n",
    "  y_test = y_test[mask]\n",
    "  mask = np.random.choice(num_training, num_dev, replace=False)\n",
    "  X_dev = X_train[mask]\n",
    "  y_dev = y_train[mask]\n",
    "  \n",
    "  # Preprocessing: reshape the image data into rows\n",
    "  X_train = np.reshape(X_train, (X_train.shape[0], -1))\n",
    "  X_val = np.reshape(X_val, (X_val.shape[0], -1))\n",
    "  X_test = np.reshape(X_test, (X_test.shape[0], -1))\n",
    "  X_dev = np.reshape(X_dev, (X_dev.shape[0], -1))\n",
    "  \n",
    "  # Normalize the data: subtract the mean image\n",
    "  mean_image = np.mean(X_train, axis = 0)\n",
    "  X_train -= mean_image\n",
    "  X_val -= mean_image\n",
    "  X_test -= mean_image\n",
    "  X_dev -= mean_image\n",
    "  \n",
    "  # add bias dimension and transform into columns\n",
    "  X_train = np.hstack([X_train, np.ones((X_train.shape[0], 1))])\n",
    "  X_val = np.hstack([X_val, np.ones((X_val.shape[0], 1))])\n",
    "  X_test = np.hstack([X_test, np.ones((X_test.shape[0], 1))])\n",
    "  X_dev = np.hstack([X_dev, np.ones((X_dev.shape[0], 1))])\n",
    "  \n",
    "  return X_train, y_train, X_val, y_val, X_test, y_test, X_dev, y_dev\n",
    "\n",
    "\n",
    "# Invoke the above function to get our data.\n",
    "X_train, y_train, X_val, y_val, X_test, y_test, X_dev, y_dev = get_CIFAR10_data()\n",
    "print('Train data shape: ', X_train.shape)\n",
    "print('Train labels shape: ', y_train.shape)\n",
    "print('Validation data shape: ', X_val.shape)\n",
    "print('Validation labels shape: ', y_val.shape)\n",
    "print('Test data shape: ', X_test.shape)\n",
    "print('Test labels shape: ', y_test.shape)\n",
    "print('dev data shape: ', X_dev.shape)\n",
    "print('dev labels shape: ', y_dev.shape)"
   ]
  },
  {
   "cell_type": "markdown",
   "metadata": {},
   "source": [
    "## Softmax Classifier\n",
    "\n",
    "Your code for this section will all be written inside **linear/classifiers/softmax.py**. \n"
   ]
  },
  {
   "cell_type": "code",
   "execution_count": 3,
   "metadata": {},
   "outputs": [
    {
     "name": "stdout",
     "output_type": "stream",
     "text": [
      "loss: 2.374170\n",
      "sanity check: 2.302585\n"
     ]
    }
   ],
   "source": [
    "# First implement the naive softmax loss function with nested loops.\n",
    "# Open the file cs231n/classifiers/softmax.py and implement the\n",
    "# softmax_loss_naive function.\n",
    "\n",
    "from skynet.linear.classifiers.softmax import softmax_loss_naive\n",
    "import time\n",
    "\n",
    "# Generate a random softmax weight matrix and use it to compute the loss.\n",
    "W = np.random.randn(3073, 10) * 0.0001\n",
    "loss, grad = softmax_loss_naive(W, X_dev, y_dev, 0.0)\n",
    "\n",
    "# As a rough sanity check, our loss should be something close to -log(0.1).\n",
    "print('loss: %f' % loss)\n",
    "print('sanity check: %f' % (-np.log(0.1)))"
   ]
  },
  {
   "cell_type": "markdown",
   "metadata": {},
   "source": [
    "## Inline Question 1:\n",
    "Why do we expect our loss to be close to -log(0.1)? Explain briefly.**\n",
    "\n",
    "**Your answer:** *Fill this in*\n",
    "\n",
    "By randomly initializing the weights, the prediction results for each class tend to be of equal probability. And there are 10 classes, meaning each has a probability of 1/10.\n"
   ]
  },
  {
   "cell_type": "code",
   "execution_count": 4,
   "metadata": {},
   "outputs": [
    {
     "name": "stdout",
     "output_type": "stream",
     "text": [
      "numerical: 1.487973 analytic: 1.487973, relative error: 1.303304e-08\n",
      "numerical: -2.063663 analytic: -2.063663, relative error: 4.233125e-09\n",
      "numerical: 3.815221 analytic: 3.815221, relative error: 7.272404e-09\n",
      "numerical: -3.957959 analytic: -3.957959, relative error: 6.813453e-09\n",
      "numerical: 2.505484 analytic: 2.505483, relative error: 2.030294e-08\n",
      "numerical: -0.812104 analytic: -0.812104, relative error: 2.174683e-08\n",
      "numerical: 3.419568 analytic: 3.419568, relative error: 2.192870e-09\n",
      "numerical: 2.520944 analytic: 2.520944, relative error: 2.077336e-08\n",
      "numerical: -2.519173 analytic: -2.519173, relative error: 4.118957e-09\n",
      "numerical: -2.950599 analytic: -2.950599, relative error: 2.142933e-09\n",
      "numerical: 3.490326 analytic: 3.490326, relative error: 4.314973e-09\n",
      "numerical: -2.127627 analytic: -2.127627, relative error: 1.989648e-09\n",
      "numerical: -0.553273 analytic: -0.553273, relative error: 1.326719e-08\n",
      "numerical: 1.533342 analytic: 1.533342, relative error: 2.110894e-09\n",
      "numerical: -0.288272 analytic: -0.288272, relative error: 7.539907e-08\n",
      "numerical: 0.385236 analytic: 0.385236, relative error: 1.438486e-07\n",
      "numerical: -1.179065 analytic: -1.179065, relative error: 1.998168e-08\n",
      "numerical: 2.061135 analytic: 2.061135, relative error: 7.404173e-09\n",
      "numerical: -0.720474 analytic: -0.720474, relative error: 5.724987e-08\n",
      "numerical: -0.756147 analytic: -0.756147, relative error: 1.148702e-08\n"
     ]
    }
   ],
   "source": [
    "# Complete the implementation of softmax_loss_naive and implement a (naive)\n",
    "# version of the gradient that uses nested loops.\n",
    "loss, grad = softmax_loss_naive(W, X_dev, y_dev, 0.0)\n",
    "\n",
    "# As we did for the SVM, use numeric gradient checking as a debugging tool.\n",
    "# The numeric gradient should be close to the analytic gradient.\n",
    "from skynet.utils.gradient_check import grad_check_sparse\n",
    "f = lambda w: softmax_loss_naive(w, X_dev, y_dev, 0.0)[0]\n",
    "grad_numerical = grad_check_sparse(f, W, grad, 10)\n",
    "\n",
    "# similar to SVM case, do another gradient check with regularization\n",
    "loss, grad = softmax_loss_naive(W, X_dev, y_dev, 1e2)\n",
    "f = lambda w: softmax_loss_naive(w, X_dev, y_dev, 1e2)[0]\n",
    "grad_numerical = grad_check_sparse(f, W, grad, 10)"
   ]
  },
  {
   "cell_type": "code",
   "execution_count": 5,
   "metadata": {},
   "outputs": [
    {
     "name": "stdout",
     "output_type": "stream",
     "text": [
      "naive loss: 2.374170e+00 computed in 0.077480s\n",
      "vectorized loss: 2.374170e+00 computed in 0.004260s\n",
      "Loss difference: 0.000000\n",
      "Gradient difference: 0.000000\n"
     ]
    }
   ],
   "source": [
    "# Now that we have a naive implementation of the softmax loss function and its gradient,\n",
    "# implement a vectorized version in softmax_loss_vectorized.\n",
    "# The two versions should compute the same results, but the vectorized version should be\n",
    "# much faster.\n",
    "tic = time.time()\n",
    "loss_naive, grad_naive = softmax_loss_naive(W, X_dev, y_dev, 0.00001)\n",
    "toc = time.time()\n",
    "print('naive loss: %e computed in %fs' % (loss_naive, toc - tic))\n",
    "\n",
    "from skynet.linear.classifiers.softmax import softmax_loss_vectorized\n",
    "tic = time.time()\n",
    "loss_vectorized, grad_vectorized = softmax_loss_vectorized(W, X_dev, y_dev, 0.00001)\n",
    "toc = time.time()\n",
    "print('vectorized loss: %e computed in %fs' % (loss_vectorized, toc - tic))\n",
    "\n",
    "# As we did for the SVM, we use the Frobenius norm to compare the two versions\n",
    "# of the gradient.\n",
    "grad_difference = np.linalg.norm(grad_naive - grad_vectorized, ord='fro')\n",
    "print('Loss difference: %f' % np.abs(loss_naive - loss_vectorized))\n",
    "print('Gradient difference: %f' % grad_difference)"
   ]
  },
  {
   "cell_type": "code",
   "execution_count": 6,
   "metadata": {},
   "outputs": [
    {
     "name": "stdout",
     "output_type": "stream",
     "text": [
      "lr 2.427552e-06 reg 1.590637e-02 train accuracy: 0.381286 val accuracy: 0.354000\n",
      "lr 2.427552e-06 reg 1.626959e+00 train accuracy: 0.381020 val accuracy: 0.347000\n",
      "lr 2.427552e-06 reg 1.082832e+01 train accuracy: 0.380163 val accuracy: 0.352000\n",
      "lr 2.427552e-06 reg 2.503566e+01 train accuracy: 0.386347 val accuracy: 0.371000\n",
      "lr 2.427552e-06 reg 1.055414e+02 train accuracy: 0.390184 val accuracy: 0.373000\n",
      "lr 2.427552e-06 reg 2.451359e+02 train accuracy: 0.404857 val accuracy: 0.394000\n",
      "lr 3.012538e-06 reg 1.590637e-02 train accuracy: 0.385571 val accuracy: 0.357000\n",
      "lr 3.012538e-06 reg 1.626959e+00 train accuracy: 0.387755 val accuracy: 0.357000\n",
      "lr 3.012538e-06 reg 1.082832e+01 train accuracy: 0.383673 val accuracy: 0.388000\n",
      "lr 3.012538e-06 reg 2.503566e+01 train accuracy: 0.389776 val accuracy: 0.374000\n",
      "lr 3.012538e-06 reg 1.055414e+02 train accuracy: 0.407204 val accuracy: 0.391000\n",
      "lr 3.012538e-06 reg 2.451359e+02 train accuracy: 0.402531 val accuracy: 0.388000\n",
      "lr 3.123821e-06 reg 1.590637e-02 train accuracy: 0.390122 val accuracy: 0.380000\n",
      "lr 3.123821e-06 reg 1.626959e+00 train accuracy: 0.382408 val accuracy: 0.368000\n",
      "lr 3.123821e-06 reg 1.082832e+01 train accuracy: 0.384265 val accuracy: 0.351000\n",
      "lr 3.123821e-06 reg 2.503566e+01 train accuracy: 0.390633 val accuracy: 0.364000\n",
      "lr 3.123821e-06 reg 1.055414e+02 train accuracy: 0.402796 val accuracy: 0.402000\n",
      "lr 3.123821e-06 reg 2.451359e+02 train accuracy: 0.407224 val accuracy: 0.382000\n",
      "lr 3.448706e-06 reg 1.590637e-02 train accuracy: 0.393959 val accuracy: 0.373000\n",
      "lr 3.448706e-06 reg 1.626959e+00 train accuracy: 0.388306 val accuracy: 0.366000\n",
      "lr 3.448706e-06 reg 1.082832e+01 train accuracy: 0.391959 val accuracy: 0.368000\n",
      "lr 3.448706e-06 reg 2.503566e+01 train accuracy: 0.397673 val accuracy: 0.363000\n",
      "lr 3.448706e-06 reg 1.055414e+02 train accuracy: 0.398510 val accuracy: 0.360000\n",
      "lr 3.448706e-06 reg 2.451359e+02 train accuracy: 0.414980 val accuracy: 0.411000\n",
      "lr 4.096117e-06 reg 1.590637e-02 train accuracy: 0.387082 val accuracy: 0.372000\n",
      "lr 4.096117e-06 reg 1.626959e+00 train accuracy: 0.389531 val accuracy: 0.375000\n",
      "lr 4.096117e-06 reg 1.082832e+01 train accuracy: 0.396878 val accuracy: 0.382000\n",
      "lr 4.096117e-06 reg 2.503566e+01 train accuracy: 0.388592 val accuracy: 0.376000\n",
      "lr 4.096117e-06 reg 1.055414e+02 train accuracy: 0.406878 val accuracy: 0.383000\n",
      "lr 4.096117e-06 reg 2.451359e+02 train accuracy: 0.391755 val accuracy: 0.381000\n",
      "lr 9.850632e-06 reg 1.590637e-02 train accuracy: 0.326878 val accuracy: 0.307000\n",
      "lr 9.850632e-06 reg 1.626959e+00 train accuracy: 0.317122 val accuracy: 0.318000\n",
      "lr 9.850632e-06 reg 1.082832e+01 train accuracy: 0.348531 val accuracy: 0.321000\n",
      "lr 9.850632e-06 reg 2.503566e+01 train accuracy: 0.374163 val accuracy: 0.371000\n",
      "lr 9.850632e-06 reg 1.055414e+02 train accuracy: 0.334449 val accuracy: 0.310000\n",
      "lr 9.850632e-06 reg 2.451359e+02 train accuracy: 0.267531 val accuracy: 0.256000\n",
      "best validation accuracy achieved during cross-validation: 0.411000\n"
     ]
    }
   ],
   "source": [
    "# Use the validation set to tune hyperparameters (regularization strength and\n",
    "# learning rate). You should experiment with different ranges for the learning\n",
    "# rates and regularization strengths; if you are careful you should be able to\n",
    "# get a classification accuracy of over 0.35 on the validation set.\n",
    "from skynet.linear.classifiers import Softmax\n",
    "results = {}\n",
    "best_val = -1\n",
    "best_softmax = None\n",
    "# Grid search\n",
    "# learning_rates = [1e-7, 3e-7, 5e-7, 7e-7, 1e-6, 3e-6]\n",
    "# regularization_strengths = [1e-5, 5e-5, 1e-4, 3e-4, 5e-4, 1e-3]\n",
    "learning_rates = np.logspace(-6, -5, 5) # -10, -9, -8, -7, -6, -5, -4\n",
    "regularization_strengths = np.logspace(-3, 3, 5) # [-4, -3, -2, -1, 1, 2, 3, 4, 5, 6]\n",
    "\n",
    "# Random search\n",
    "learning_rates = sorted(10**np.random.uniform(-6, -5, 6))\n",
    "regularization_strengths = sorted(10**np.random.uniform(-3, 3, 6))\n",
    "\n",
    "\n",
    "################################################################################\n",
    "# TODO:                                                                        #\n",
    "# Use the validation set to set the learning rate and regularization strength. #\n",
    "# This should be identical to the validation that you did for the SVM; save    #\n",
    "# the best trained softmax classifer in best_softmax.                          #\n",
    "################################################################################\n",
    "for learning_rate in learning_rates:\n",
    "    for reg in regularization_strengths:\n",
    "        classifier = Softmax()\n",
    "        classifier.train(X_train, y_train, \n",
    "                         learning_rate=learning_rate, reg=reg, num_iters=1500,\n",
    "                         batch_size=200, verbose=False)\n",
    "        y_train_predict = classifier.predict(X_train)\n",
    "        y_val_predict = classifier.predict(X_val)\n",
    "        train_accuracy = np.mean(y_train==y_train_predict)\n",
    "        val_accuracy = np.mean(y_val==y_val_predict)\n",
    "        results[(learning_rate, reg,)] = (train_accuracy, val_accuracy)\n",
    "        if val_accuracy > best_val:\n",
    "            best_val = val_accuracy\n",
    "            best_softmax = classifier\n",
    "        print('lr %e reg %e train accuracy: %f val accuracy: %f' % (\n",
    "            learning_rate, reg, train_accuracy, val_accuracy))\n",
    "pass\n",
    "################################################################################\n",
    "#                              END OF YOUR CODE                                #\n",
    "################################################################################    \n",
    "print('best validation accuracy achieved during cross-validation: %f' % best_val)"
   ]
  },
  {
   "cell_type": "code",
   "execution_count": 7,
   "metadata": {},
   "outputs": [
    {
     "name": "stdout",
     "output_type": "stream",
     "text": [
      "softmax on raw pixels final test set accuracy: 0.370000\n"
     ]
    }
   ],
   "source": [
    "# evaluate on test set\n",
    "# Evaluate the best softmax on test set\n",
    "y_test_pred = best_softmax.predict(X_test)\n",
    "test_accuracy = np.mean(y_test == y_test_pred)\n",
    "print('softmax on raw pixels final test set accuracy: %f' % (test_accuracy, ))"
   ]
  },
  {
   "cell_type": "code",
   "execution_count": 8,
   "metadata": {},
   "outputs": [
    {
     "data": {
      "image/png": "[encoded data removed]",
      "text/plain": [
       "<matplotlib.figure.Figure at 0x10e5c7198>"
      ]
     },
     "metadata": {},
     "output_type": "display_data"
    }
   ],
   "source": [
    "# Visualize the learned weights for each class\n",
    "w = best_softmax.W[:-1,:] # strip out the bias\n",
    "w = w.reshape(32, 32, 3, 10)\n",
    "\n",
    "w_min, w_max = np.min(w), np.max(w)\n",
    "\n",
    "classes = ['plane', 'car', 'bird', 'cat', 'deer', 'dog', 'frog', 'horse', 'ship', 'truck']\n",
    "for i in range(10):\n",
    "  plt.subplot(2, 5, i + 1)\n",
    "  \n",
    "  # Rescale the weights to be between 0 and 255\n",
    "  wimg = 255.0 * (w[:, :, :, i].squeeze() - w_min) / (w_max - w_min)\n",
    "  plt.imshow(wimg.astype('uint8'))\n",
    "  plt.axis('off')\n",
    "  plt.title(classes[i])"
   ]
  },
  {
   "cell_type": "code",
   "execution_count": null,
   "metadata": {
    "collapsed": true
   },
   "outputs": [],
   "source": []
  }
 ],
 "metadata": {
  "kernelspec": {
   "display_name": "Python 3",
   "language": "python",
   "name": "python3"
  },
  "language_info": {
   "codemirror_mode": {
    "name": "ipython",
    "version": 3
   },
   "file_extension": ".py",
   "mimetype": "text/x-python",
   "name": "python",
   "nbconvert_exporter": "python",
   "pygments_lexer": "ipython3",
   "version": "3.6.0"
  }
 },
 "nbformat": 4,
 "nbformat_minor": 1
}
